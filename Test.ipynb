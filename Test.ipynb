{
 "cells": [
  {
   "cell_type": "code",
   "execution_count": 6,
   "metadata": {},
   "outputs": [
    {
     "name": "stdout",
     "output_type": "stream",
     "text": [
      "(1, 'Александрина', 'Алексеевна', 'Цивильск')\n",
      "(2, 'Рома', 'Сергеевич', 'Киров')\n",
      "(3, 'Нариман', 'Ваитович', 'Казань')\n"
     ]
    }
   ],
   "source": [
    "import pyodbc\n",
    "\n",
    "conn = pyodbc.connect(r'Driver={Microsoft Access Driver (*.mdb, *.accdb)};DBQ=C:\\Users\\Vlastellin\\ConnectLocalDB_to_Server\\Database2.accdb;')\n",
    "cursor = conn.cursor()\n",
    "cursor.execute('select * from Tab1')\n",
    "   \n",
    "for row in cursor.fetchall():\n",
    "    print (row)"
   ]
  },
  {
   "cell_type": "code",
   "execution_count": null,
   "metadata": {},
   "outputs": [],
   "source": []
  }
 ],
 "metadata": {
  "kernelspec": {
   "display_name": "Python 3",
   "language": "python",
   "name": "python3"
  },
  "language_info": {
   "codemirror_mode": {
    "name": "ipython",
    "version": 3
   },
   "file_extension": ".py",
   "mimetype": "text/x-python",
   "name": "python",
   "nbconvert_exporter": "python",
   "pygments_lexer": "ipython3",
   "version": "3.7.3"
  }
 },
 "nbformat": 4,
 "nbformat_minor": 4
}
