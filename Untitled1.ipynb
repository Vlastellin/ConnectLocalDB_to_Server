{
 "cells": [
  {
   "cell_type": "code",
   "execution_count": 5,
   "metadata": {},
   "outputs": [
    {
     "name": "stdout",
     "output_type": "stream",
     "text": [
      "[1, 2, 3, 4, '5']\n"
     ]
    }
   ],
   "source": [
    "from ast import literal_eval\n",
    "s = '(1,2,3,4,\"5\")'\n",
    "\n",
    "l = literal_eval(s)\n",
    "print(list(l))"
   ]
  },
  {
   "cell_type": "code",
   "execution_count": 21,
   "metadata": {},
   "outputs": [
    {
     "name": "stdout",
     "output_type": "stream",
     "text": [
      "[1, datetime.datetime(2020, 5, 29, 0, 0), datetime.datetime(1899, 12, 30, 8, 0), datetime.datetime(1899, 12, 30, 8, 30), 'Этаж 5, квартира 10, стена 1', 'Покраска стен', 'м2', 20, Decimal('100.0000'), '2,4']\n",
      "1\n",
      "2020-05-29\n",
      "08:00:00\n",
      "08:30:00\n",
      "Этаж 5, квартира 10, стена 1\n",
      "Покраска стен\n",
      "м2\n",
      "20\n",
      "100.0\n",
      "[2, 4]\n"
     ]
    }
   ],
   "source": [
    "import pickle\n",
    "import datetime\n",
    "with open('test.pickle', 'rb') as f:\n",
    "                t= pickle.load(f)\n",
    "\n",
    "l= list(t['row1'])\n",
    "print(l)\n",
    "idd= l[0]\n",
    "print(idd)\n",
    "date = datetime.date(l[1].year,l[1].month, l[1].day )\n",
    "print(date)\n",
    "time1 = datetime.time(l[2].hour,l[2].minute, l[2].second )\n",
    "print(time1)\n",
    "time2 = datetime.time(l[3].hour,l[3].minute, l[3].second )\n",
    "print(time2)\n",
    "place =l[4]\n",
    "print(place)\n",
    "description = l[5]\n",
    "print(description)\n",
    "mens = l[6]\n",
    "print(l[6])\n",
    "count = l[7]\n",
    "print(count)\n",
    "price = float(l[8])\n",
    "print(price)\n",
    "s1 = l[9].split(',')\n",
    "employees = list(map(int, s1))\n",
    "print(employees)"
   ]
  },
  {
   "cell_type": "code",
   "execution_count": null,
   "metadata": {},
   "outputs": [],
   "source": []
  }
 ],
 "metadata": {
  "kernelspec": {
   "display_name": "Python 3",
   "language": "python",
   "name": "python3"
  },
  "language_info": {
   "codemirror_mode": {
    "name": "ipython",
    "version": 3
   },
   "file_extension": ".py",
   "mimetype": "text/x-python",
   "name": "python",
   "nbconvert_exporter": "python",
   "pygments_lexer": "ipython3",
   "version": "3.7.3"
  }
 },
 "nbformat": 4,
 "nbformat_minor": 4
}
