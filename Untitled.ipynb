{
 "cells": [
  {
   "cell_type": "code",
   "execution_count": 2,
   "metadata": {},
   "outputs": [
    {
     "name": "stdout",
     "output_type": "stream",
     "text": [
      "False\n",
      "False\n",
      "False\n",
      "False\n",
      "False\n",
      "False\n",
      "False\n",
      "False\n",
      "False\n",
      "False\n",
      "False\n",
      "False\n",
      "False\n",
      "False\n",
      "False\n",
      "False\n",
      "False\n",
      "False\n"
     ]
    },
    {
     "ename": "KeyboardInterrupt",
     "evalue": "",
     "output_type": "error",
     "traceback": [
      "\u001b[1;31m---------------------------------------------------------------------------\u001b[0m",
      "\u001b[1;31mKeyboardInterrupt\u001b[0m                         Traceback (most recent call last)",
      "\u001b[1;32m<ipython-input-2-60ca28ddf01c>\u001b[0m in \u001b[0;36m<module>\u001b[1;34m\u001b[0m\n\u001b[0;32m     94\u001b[0m \u001b[1;32mwhile\u001b[0m \u001b[1;32mTrue\u001b[0m\u001b[1;33m:\u001b[0m\u001b[1;33m\u001b[0m\u001b[1;33m\u001b[0m\u001b[0m\n\u001b[0;32m     95\u001b[0m         \u001b[0mprint\u001b[0m\u001b[1;33m(\u001b[0m\u001b[0mrun\u001b[0m\u001b[1;33m)\u001b[0m\u001b[1;33m\u001b[0m\u001b[1;33m\u001b[0m\u001b[0m\n\u001b[1;32m---> 96\u001b[1;33m         \u001b[0mtime\u001b[0m\u001b[1;33m.\u001b[0m\u001b[0msleep\u001b[0m\u001b[1;33m(\u001b[0m\u001b[1;36m1\u001b[0m\u001b[1;33m)\u001b[0m\u001b[1;33m\u001b[0m\u001b[1;33m\u001b[0m\u001b[0m\n\u001b[0m\u001b[0;32m     97\u001b[0m \u001b[0mwindow\u001b[0m\u001b[1;33m.\u001b[0m\u001b[0mmainloop\u001b[0m\u001b[1;33m(\u001b[0m\u001b[1;33m)\u001b[0m\u001b[1;33m\u001b[0m\u001b[1;33m\u001b[0m\u001b[0m\n",
      "\u001b[1;31mKeyboardInterrupt\u001b[0m: "
     ]
    }
   ],
   "source": [
    "from tkinter import *  \n",
    "from tkinter import messagebox \n",
    "from tkinter import filedialog\n",
    "import os\n",
    "import tkinter as tk\n",
    "from tkinter import ttk\n",
    "import os.path\n",
    "import pickle\n",
    "import time\n",
    "\n",
    "is_first= not( os.path.exists('settings.pickle'))\n",
    "path_access=''\n",
    "path_exel=''\n",
    "run=False\n",
    "if not is_first:\n",
    "    with open('settings.pickle', 'rb') as f:\n",
    "        t= pickle.load(f)\n",
    "    path_access=t[0]\n",
    "    path_exel=t[1]\n",
    "\n",
    "def clicked_down():\n",
    "    global is_first\n",
    "    if is_first:\n",
    "        messagebox.showerror(\"Ошибка!\",\"Выберите файл access и exel во вкладке Настройки \")\n",
    "        return 1\n",
    "    global run\n",
    "    run= True\n",
    "    \n",
    "        \n",
    "def clicked_up():\n",
    "    global run\n",
    "    run= False\n",
    "        \n",
    "def t2_b1_clicked():\n",
    "    global path_access\n",
    "    path_access =  filedialog.askopenfilename()\n",
    "    t2_lbl3.configure(text=str(path_access )) \n",
    "    \n",
    "def t2_b2_clicked():\n",
    "    global path_exel\n",
    "    path_exel =  filedialog.askopenfilename()\n",
    "    t2_lbl4.configure(text=str(path_exel )) \n",
    "    \n",
    "def t2_b3_clicked():\n",
    "    global path_exel\n",
    "    global path_access\n",
    "    if path_exel=='':\n",
    "        messagebox.showerror(\"Ошибка!\", \"Не выбран  файл exel \")\n",
    "        return 1\n",
    "    if path_access=='':\n",
    "        messagebox.showerror(\"Ошибка!\", \"Не выбран  файл access \")\n",
    "        return 1\n",
    "    with open('settings.pickle', 'wb') as f:\n",
    "        pickle.dump([path_access,path_exel], f)   \n",
    "    messagebox.showinfo(\"Операция выполнена\", \"Новые настройки сохранены\")\n",
    "    global is_first\n",
    "    is_first=False\n",
    "    \n",
    "\n",
    "\n",
    "window = Tk()  \n",
    "window.title(\"Связь с сервером\")  \n",
    "window.geometry('650x600')  \n",
    "tab_control = ttk.Notebook(window)  \n",
    "tab2 = ttk.Frame(tab_control) \n",
    "tab1 = ttk.Frame(tab_control)  \n",
    "  \n",
    "tab_control.add(tab1, text='Главная')  \n",
    "tab_control.add(tab2, text='Настройка') \n",
    " \n",
    "\n",
    "lbl1 = Label(tab1, text='Настройки заданы по умолчанию               ')  \n",
    "lbl1.grid(column=0, row=0,padx=10, pady=10, sticky=\"w\")\n",
    "btn = Button(tab1, text='Запустить', command=clicked_down)  \n",
    "btn.grid(column=1, row=0,padx=10, pady=10, sticky=\"w\" ) \n",
    "btn = Button(tab1, text='Остановить', command=clicked_up)  \n",
    "btn.grid(column=0, row=1,padx=10, pady=10, sticky=\"w\" ) \n",
    "\n",
    "#tab2\n",
    "\n",
    "t2_b1 = Button(tab2, text='Выбрать базу данных', command=t2_b1_clicked)  \n",
    "t2_b1.grid(column=0, row=2,padx=10, pady=10, sticky=\"w\" ) \n",
    "t2_lbl3 = Label(tab2, text='')  \n",
    "t2_lbl3.grid(column=0, row=3, padx=10, pady=10, sticky=\"w\")\n",
    "\n",
    "t2_b2 = Button(tab2, text='Выберите файл exel', command=t2_b2_clicked)  \n",
    "t2_b2.grid(column=0, row=5,padx=10, pady=10, sticky=\"w\" ) \n",
    "t2_lbl4 = Label(tab2, text='')  \n",
    "t2_lbl4.grid(column=0, row=6, padx=10, pady=10, sticky=\"w\")\n",
    "\n",
    "t2_b3 = Button(tab2, text='Сохранить настройки', command=t2_b3_clicked)  \n",
    "t2_b3.grid(column=0, row=7,padx=10, pady=10, sticky=\"w\" ) \n",
    "tab_control.pack(expand=1, fill='both')  \n",
    "while True:\n",
    "        print(run)\n",
    "        time.sleep(1)\n",
    "window.mainloop()\n"
   ]
  },
  {
   "cell_type": "code",
   "execution_count": 16,
   "metadata": {},
   "outputs": [],
   "source": [
    "import tkinter  as tk \n",
    "#from tkinter import messagebox \n",
    "#from tkinter import filedialog\n",
    "import os\n",
    "from tkinter import ttk\n",
    "import os.path\n",
    "import pickle\n",
    "import time\n",
    "\n",
    "window = tk.Tk()  \n",
    "window.title(\"Связь с сервером2\")  \n",
    "tab_control = ttk.Notebook(window)  \n",
    "window.geometry('650x600')  \n",
    "tab2 = ttk.Frame(tab_control) \n",
    "tab1 = ttk.Frame(tab_control)  \n",
    "  \n",
    "tab_control.add(tab1, text='Главная')  \n",
    "tab_control.add(tab2, text='Настройка') \n",
    "window.geometry('650x600')  \n",
    "lbl1 = Label(tab1, text='Настройки заданы по умолчанию               ')\n",
    "lbl1.grid(column=0, row=0,padx=10, pady=10, sticky=\"w\")\n",
    "window.mainloop()"
   ]
  },
  {
   "cell_type": "code",
   "execution_count": 22,
   "metadata": {},
   "outputs": [],
   "source": [
    "\n",
    "from tkinter import *  \n",
    "from tkinter import messagebox\n",
    "import librosa \n",
    "from tkinter import ttk  \n",
    "from tkinter import filedialog\n",
    "import matplotlib\n",
    "import os\n",
    "import numpy as np\n",
    "from tkinter.ttk import Combobox  \n",
    "matplotlib.use(\"TkAgg\")\n",
    "from matplotlib.backends.backend_tkagg import FigureCanvasTkAgg, NavigationToolbar2Tk\n",
    "from matplotlib.figure import Figure\n",
    "import pickle\n",
    "import tkinter as tk\n",
    "from tkinter import ttk\n",
    "import psycopg2\n",
    "\n",
    "\n",
    "window = Tk()  \n",
    "window.title(\"Модуль верификации по голосу\")  \n",
    "window.geometry('650x600')  \n",
    "tab_control = ttk.Notebook(window)  \n",
    "tab2 = ttk.Frame(tab_control) \n",
    "tab1 = ttk.Frame(tab_control)  \n",
    "#tab3 = ttk.Frame(tab_control)  \n",
    " \n",
    "tab_control.add(tab1, text='Верификация')  \n",
    "tab_control.add(tab2, text='Регистрация') \n",
    "tab_control.pack(expand=1, fill='both')  \n",
    "window.mainloop()"
   ]
  },
  {
   "cell_type": "code",
   "execution_count": 1,
   "metadata": {},
   "outputs": [
    {
     "ename": "SyntaxError",
     "evalue": "unexpected EOF while parsing (<ipython-input-1-7abc45470d9b>, line 1)",
     "output_type": "error",
     "traceback": [
      "\u001b[1;36m  File \u001b[1;32m\"<ipython-input-1-7abc45470d9b>\"\u001b[1;36m, line \u001b[1;32m1\u001b[0m\n\u001b[1;33m    while True:\u001b[0m\n\u001b[1;37m               ^\u001b[0m\n\u001b[1;31mSyntaxError\u001b[0m\u001b[1;31m:\u001b[0m unexpected EOF while parsing\n"
     ]
    }
   ],
   "source": [
    "import time\n",
    "while True:\n",
    "    time.sleep(5)\n",
    "    print('run')"
   ]
  },
  {
   "cell_type": "code",
   "execution_count": 22,
   "metadata": {},
   "outputs": [
    {
     "name": "stdout",
     "output_type": "stream",
     "text": [
      "{\"answer\": \"True\"}\n"
     ]
    }
   ],
   "source": [
    "import requests\n",
    "import json\n",
    "url = 'http://176.58.60.36/kokoro/connect_to_server/'\n",
    "r = json.dumps({'exel':{'row1': 'Hello', 'row2': 'Hello', 'row3': 'Hello'}, 'access':{'row1': 'World', 'row2': 'World', 'row3': 'World'} })\n",
    "headers = json.loads(r) \n",
    "r = requests.post(url, json ={'exel':{'row1': 'Hello', 'row2': 'Hello', 'row3': 'Hello'}, 'access':{'row1': 'World', 'row2': 'World', 'row3': 'World'}})\n",
    "print(r.text)"
   ]
  },
  {
   "cell_type": "code",
   "execution_count": null,
   "metadata": {},
   "outputs": [],
   "source": []
  }
 ],
 "metadata": {
  "kernelspec": {
   "display_name": "Python 3",
   "language": "python",
   "name": "python3"
  },
  "language_info": {
   "codemirror_mode": {
    "name": "ipython",
    "version": 3
   },
   "file_extension": ".py",
   "mimetype": "text/x-python",
   "name": "python",
   "nbconvert_exporter": "python",
   "pygments_lexer": "ipython3",
   "version": "3.7.3"
  }
 },
 "nbformat": 4,
 "nbformat_minor": 4
}
